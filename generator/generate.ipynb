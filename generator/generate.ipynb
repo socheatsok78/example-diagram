{
 "nbformat": 4,
 "nbformat_minor": 2,
 "metadata": {
  "language_info": {
   "name": "python",
   "codemirror_mode": {
    "name": "ipython",
    "version": 3
   },
   "version": "3.8.1-final"
  },
  "orig_nbformat": 2,
  "file_extension": ".py",
  "mimetype": "text/x-python",
  "name": "python",
  "npconvert_exporter": "python",
  "pygments_lexer": "ipython3",
  "version": 3,
  "kernelspec": {
   "name": "python38164bitexamplediagrampipenv715191b3bad04cc1b3bdbbb1ff1d427d",
   "display_name": "Python 3.8.1 64-bit ('example-diagram': pipenv)"
  }
 },
 "cells": [
  {
   "cell_type": "code",
   "execution_count": 1,
   "metadata": {},
   "outputs": [],
   "source": [
    "from diagrams import Diagram\n",
    "from diagrams.aws.compute import EC2\n",
    "from diagrams.aws.database import RDS\n",
    "from diagrams.aws.network import ELB"
   ]
  },
  {
   "cell_type": "code",
   "execution_count": 3,
   "metadata": {},
   "outputs": [],
   "source": [
    "with Diagram(\"Web Service\", show=False):\n",
    "    ELB(\"lb\") >> EC2(\"web\") >> RDS(\"userdb\")"
   ]
  },
  {
   "cell_type": "markdown",
   "metadata": {},
   "source": [
    "![Web Service](web_service.png)"
   ]
  },
  {
   "cell_type": "code",
   "execution_count": 2,
   "metadata": {},
   "outputs": [],
   "source": [
    "with Diagram(\"Grouped Workers\", show=False, direction=\"TB\"):\n",
    "    ELB(\"lb\") >> [EC2(\"worker1\"),\n",
    "                  EC2(\"worker2\"),\n",
    "                  EC2(\"worker3\"),\n",
    "                  EC2(\"worker4\"),\n",
    "                  EC2(\"worker5\")] >> RDS(\"events\")"
   ]
  },
  {
   "cell_type": "markdown",
   "metadata": {},
   "source": [
    "![Grouped Workers](grouped_workers.png)"
   ]
  }
 ]
}